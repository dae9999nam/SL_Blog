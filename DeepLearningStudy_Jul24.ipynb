{
  "nbformat": 4,
  "nbformat_minor": 0,
  "metadata": {
    "colab": {
      "provenance": [],
      "gpuType": "T4",
      "collapsed_sections": [
        "XdKHrCc51Twt",
        "PbbvCIda--U0",
        "g1iWIfc45609",
        "GOeuwRs7_Ijy",
        "rLTk9WXw_0uT",
        "yC9ysnemsCpj",
        "Xl1xxQCZ980B",
        "JS69A8ZVjHxk",
        "3zSiLNFMnbPP",
        "Megk9yzYMIvG"
      ],
      "toc_visible": true,
      "authorship_tag": "ABX9TyP9sQKUe7Kb+GnMG0h17/qr"
    },
    "kernelspec": {
      "name": "python3",
      "display_name": "Python 3"
    },
    "language_info": {
      "name": "python"
    },
    "accelerator": "GPU"
  },
  "cells": [
    {
      "cell_type": "markdown",
      "source": [
        "##**PyTorch Self Learning Study**\n",
        "\n",
        "> Reference: PyTorch Documentation, Youtube source\n",
        "* https://pytorch.org/docs/stable/\n",
        "* https://www.youtube.com/watch?v=V_xro1bcAuA&t=2598s\n",
        "\n",
        "##### Start Date: 2024.07.24\n",
        "##### Notebook Setting: T4 GPU\n",
        "\n",
        "\n",
        "\n",
        "\n"
      ],
      "metadata": {
        "id": "lnfPyDbqxMdF"
      }
    },
    {
      "cell_type": "code",
      "source": [
        "import torch\n",
        "import numpy as np\n",
        "import pandas as pd\n",
        "import matplotlib.pyplot as plt\n",
        "print(torch.__version__) #torch version: 2.3.1 cubaversion: 1.2.1"
      ],
      "metadata": {
        "colab": {
          "base_uri": "https://localhost:8080/"
        },
        "id": "mlhegGQXxWiY",
        "outputId": "1f7eb50c-4a1f-410e-ec98-0ea9d747e3ff"
      },
      "execution_count": null,
      "outputs": [
        {
          "output_type": "stream",
          "name": "stdout",
          "text": [
            "2.3.1+cu121\n"
          ]
        }
      ]
    },
    {
      "cell_type": "markdown",
      "source": [
        "##1. Introduction to Tensors (Fundamental)\n"
      ],
      "metadata": {
        "id": "XdKHrCc51Twt"
      }
    },
    {
      "cell_type": "markdown",
      "source": [
        "###1-1.Creating Tensors and observe the characters"
      ],
      "metadata": {
        "id": "PbbvCIda--U0"
      }
    },
    {
      "cell_type": "code",
      "source": [
        "#Scalars\n",
        "scalar = torch.tensor(7)\n",
        "scalar"
      ],
      "metadata": {
        "colab": {
          "base_uri": "https://localhost:8080/"
        },
        "id": "5QnvXxqi0390",
        "outputId": "7b06932d-b60b-44e3-db32-f3b82c82ff1e"
      },
      "execution_count": null,
      "outputs": [
        {
          "output_type": "execute_result",
          "data": {
            "text/plain": [
              "tensor(7)"
            ]
          },
          "metadata": {},
          "execution_count": 2
        }
      ]
    },
    {
      "cell_type": "code",
      "source": [
        "scalar.ndim"
      ],
      "metadata": {
        "colab": {
          "base_uri": "https://localhost:8080/"
        },
        "id": "cSSaSXm74h01",
        "outputId": "3f4b6276-8e75-4855-8f51-22a4c961b912"
      },
      "execution_count": null,
      "outputs": [
        {
          "output_type": "execute_result",
          "data": {
            "text/plain": [
              "0"
            ]
          },
          "metadata": {},
          "execution_count": 3
        }
      ]
    },
    {
      "cell_type": "code",
      "source": [
        "scalar.item()"
      ],
      "metadata": {
        "colab": {
          "base_uri": "https://localhost:8080/"
        },
        "id": "jXKteoeB4moI",
        "outputId": "39840623-622a-4230-f79f-85f6200960cb"
      },
      "execution_count": null,
      "outputs": [
        {
          "output_type": "execute_result",
          "data": {
            "text/plain": [
              "7"
            ]
          },
          "metadata": {},
          "execution_count": 4
        }
      ]
    },
    {
      "cell_type": "code",
      "source": [
        "#vectors\n",
        "vectors = torch.tensor([1,1])\n",
        "vectors"
      ],
      "metadata": {
        "colab": {
          "base_uri": "https://localhost:8080/"
        },
        "id": "g-rkYXoU4r7e",
        "outputId": "ae02bfc8-e69a-48d0-a723-a8a5510eacc9"
      },
      "execution_count": null,
      "outputs": [
        {
          "output_type": "execute_result",
          "data": {
            "text/plain": [
              "tensor([1, 1])"
            ]
          },
          "metadata": {},
          "execution_count": 5
        }
      ]
    },
    {
      "cell_type": "code",
      "source": [
        "vectors.ndim"
      ],
      "metadata": {
        "colab": {
          "base_uri": "https://localhost:8080/"
        },
        "id": "nS_7yQBu49KH",
        "outputId": "96c7e7a1-1cff-4745-9387-3598d03d6a39"
      },
      "execution_count": null,
      "outputs": [
        {
          "output_type": "execute_result",
          "data": {
            "text/plain": [
              "1"
            ]
          },
          "metadata": {},
          "execution_count": 6
        }
      ]
    },
    {
      "cell_type": "code",
      "source": [
        "vectors.shape"
      ],
      "metadata": {
        "colab": {
          "base_uri": "https://localhost:8080/"
        },
        "id": "J93RJ_mn5FnY",
        "outputId": "3a263f6b-884d-4772-e183-879ed7855101"
      },
      "execution_count": null,
      "outputs": [
        {
          "output_type": "execute_result",
          "data": {
            "text/plain": [
              "torch.Size([2])"
            ]
          },
          "metadata": {},
          "execution_count": 7
        }
      ]
    },
    {
      "cell_type": "code",
      "source": [
        "#MATRIX\n",
        "MATRIX = torch.tensor([[1,2],[3,4]])\n",
        "MATRIX"
      ],
      "metadata": {
        "colab": {
          "base_uri": "https://localhost:8080/"
        },
        "id": "x_j8C1Qa5JHX",
        "outputId": "b9203f86-acdb-409c-bdd9-fd0fdd8f6144"
      },
      "execution_count": null,
      "outputs": [
        {
          "output_type": "execute_result",
          "data": {
            "text/plain": [
              "tensor([[1, 2],\n",
              "        [3, 4]])"
            ]
          },
          "metadata": {},
          "execution_count": 8
        }
      ]
    },
    {
      "cell_type": "code",
      "source": [
        "MATRIX.ndim"
      ],
      "metadata": {
        "colab": {
          "base_uri": "https://localhost:8080/"
        },
        "id": "estA-Kxq5PMt",
        "outputId": "019accb7-7d0e-4dc9-d438-2c9cd298cf59"
      },
      "execution_count": null,
      "outputs": [
        {
          "output_type": "execute_result",
          "data": {
            "text/plain": [
              "2"
            ]
          },
          "metadata": {},
          "execution_count": 9
        }
      ]
    },
    {
      "cell_type": "code",
      "source": [
        "MATRIX.shape"
      ],
      "metadata": {
        "colab": {
          "base_uri": "https://localhost:8080/"
        },
        "id": "axFnnOAF5R0f",
        "outputId": "4943b5b8-1dfc-4180-b56f-58ef144ec1d5"
      },
      "execution_count": null,
      "outputs": [
        {
          "output_type": "execute_result",
          "data": {
            "text/plain": [
              "torch.Size([2, 2])"
            ]
          },
          "metadata": {},
          "execution_count": 10
        }
      ]
    },
    {
      "cell_type": "code",
      "source": [
        "#TENSORS\n",
        "TENSOR = torch.tensor([[[1,2,3],\n",
        "                        [4,5,6],\n",
        "                        [7,8,9]]])\n",
        "TENSOR"
      ],
      "metadata": {
        "colab": {
          "base_uri": "https://localhost:8080/"
        },
        "id": "EyuJlLti5WFE",
        "outputId": "1e0f68fb-871f-4fce-b815-5b2b2ccc34de"
      },
      "execution_count": null,
      "outputs": [
        {
          "output_type": "execute_result",
          "data": {
            "text/plain": [
              "tensor([[[1, 2, 3],\n",
              "         [4, 5, 6],\n",
              "         [7, 8, 9]]])"
            ]
          },
          "metadata": {},
          "execution_count": 11
        }
      ]
    },
    {
      "cell_type": "code",
      "source": [
        "TENSOR.ndim"
      ],
      "metadata": {
        "colab": {
          "base_uri": "https://localhost:8080/"
        },
        "id": "uXXRe4Vi5qS-",
        "outputId": "ea1d6c7a-e714-47ac-99ff-61cec2a56860"
      },
      "execution_count": null,
      "outputs": [
        {
          "output_type": "execute_result",
          "data": {
            "text/plain": [
              "3"
            ]
          },
          "metadata": {},
          "execution_count": 12
        }
      ]
    },
    {
      "cell_type": "code",
      "source": [
        "TENSOR.shape"
      ],
      "metadata": {
        "colab": {
          "base_uri": "https://localhost:8080/"
        },
        "id": "vMIzWAtw5s60",
        "outputId": "66ed7217-207d-4619-c482-6f2b8387560e"
      },
      "execution_count": null,
      "outputs": [
        {
          "output_type": "execute_result",
          "data": {
            "text/plain": [
              "torch.Size([1, 3, 3])"
            ]
          },
          "metadata": {},
          "execution_count": 13
        }
      ]
    },
    {
      "cell_type": "markdown",
      "source": [
        "#####Variable name for scalar and vector are represented by lower case\n",
        "#####Variable name for MATRIX and TENSOR are represented by upper case"
      ],
      "metadata": {
        "id": "1izA3D3a6JGi"
      }
    },
    {
      "cell_type": "markdown",
      "source": [
        "###1.2 Creating Random Tensors\n",
        "####Why random tensor\n",
        "#####Random tensors are important because the way neural networks learn is that they start with tensors full of random numbers and then adjust those random numbers to better represent the data.\n",
        "`Start with random numbers -> look at data -> update random numbers -> look at data -> update random numbers`"
      ],
      "metadata": {
        "id": "g1iWIfc45609"
      }
    },
    {
      "cell_type": "code",
      "source": [
        "#Create random tensors\n",
        "random_tensor = torch.rand(3,4) # == torch.rand(size=(3,4))\n",
        "random_tensor"
      ],
      "metadata": {
        "colab": {
          "base_uri": "https://localhost:8080/"
        },
        "id": "h9DJfFHG8XTU",
        "outputId": "8584178b-8639-4c4b-a060-9927bb608c4c"
      },
      "execution_count": null,
      "outputs": [
        {
          "output_type": "execute_result",
          "data": {
            "text/plain": [
              "tensor([[0.1682, 0.3457, 0.6053, 0.1593],\n",
              "        [0.3259, 0.6255, 0.3389, 0.4211],\n",
              "        [0.9786, 0.5279, 0.8660, 0.3062]])"
            ]
          },
          "metadata": {},
          "execution_count": 14
        }
      ]
    },
    {
      "cell_type": "code",
      "source": [
        "#Create a random tensor with similar shape to an image tensor\n",
        "random_image_tensor = torch.rand(size=(224,224,3)) #height, width, colour channel (R,G,B)\n",
        "# can be torch.rand(size=(3, 224, 224)) => parameters in colour channel, height, width order\n",
        "random_image_tensor.shape, random_image_tensor.ndim"
      ],
      "metadata": {
        "colab": {
          "base_uri": "https://localhost:8080/"
        },
        "id": "9DGtbhv989ME",
        "outputId": "467b6f2a-77e4-40d3-bc80-64698ba9f489"
      },
      "execution_count": null,
      "outputs": [
        {
          "output_type": "execute_result",
          "data": {
            "text/plain": [
              "(torch.Size([224, 224, 3]), 3)"
            ]
          },
          "metadata": {},
          "execution_count": 15
        }
      ]
    },
    {
      "cell_type": "markdown",
      "source": [
        "###1.3 Creating Tensors with all zeros and ones"
      ],
      "metadata": {
        "id": "GOeuwRs7_Ijy"
      }
    },
    {
      "cell_type": "code",
      "source": [
        "##Tensors with zeros and ones\n",
        "zeros = torch.zeros(size=(3,4))\n",
        "zeros"
      ],
      "metadata": {
        "colab": {
          "base_uri": "https://localhost:8080/"
        },
        "id": "aJ4aUkYt-VA7",
        "outputId": "d0a0edbb-0a91-4fa2-8a32-c88d0b1f2c65"
      },
      "execution_count": null,
      "outputs": [
        {
          "output_type": "execute_result",
          "data": {
            "text/plain": [
              "tensor([[0., 0., 0., 0.],\n",
              "        [0., 0., 0., 0.],\n",
              "        [0., 0., 0., 0.]])"
            ]
          },
          "metadata": {},
          "execution_count": 16
        }
      ]
    },
    {
      "cell_type": "code",
      "source": [
        "ones = torch.ones(3,4)\n",
        "ones"
      ],
      "metadata": {
        "colab": {
          "base_uri": "https://localhost:8080/"
        },
        "id": "y51sDlIN_SfW",
        "outputId": "7edf83f7-bf85-4ca7-bbc1-2868ec31e398"
      },
      "execution_count": null,
      "outputs": [
        {
          "output_type": "execute_result",
          "data": {
            "text/plain": [
              "tensor([[1., 1., 1., 1.],\n",
              "        [1., 1., 1., 1.],\n",
              "        [1., 1., 1., 1.]])"
            ]
          },
          "metadata": {},
          "execution_count": 17
        }
      ]
    },
    {
      "cell_type": "code",
      "source": [
        "##reasons for floating points in the tensors\n",
        "#default setting for dtype of tensor is float32\n",
        "ones.dtype"
      ],
      "metadata": {
        "colab": {
          "base_uri": "https://localhost:8080/"
        },
        "id": "tFbc5ulu_XBj",
        "outputId": "3ed23276-c6bf-4c03-d57a-fc87e9f67233"
      },
      "execution_count": null,
      "outputs": [
        {
          "output_type": "execute_result",
          "data": {
            "text/plain": [
              "torch.float32"
            ]
          },
          "metadata": {},
          "execution_count": 18
        }
      ]
    },
    {
      "cell_type": "markdown",
      "source": [
        "####Usage of Zero tensors\n",
        "######Zero tensor can be used to make the target tensor or specific column or row to be zero by multiplying corresponding zero tensor\n",
        "\n",
        "```\n",
        "zeros * random_tensor\n",
        "```\n",
        "\n"
      ],
      "metadata": {
        "id": "CQz7V0Urp00F"
      }
    },
    {
      "cell_type": "markdown",
      "source": [
        "###1.4 Creating a range of tensors and tensors-like\n"
      ],
      "metadata": {
        "id": "rLTk9WXw_0uT"
      }
    },
    {
      "cell_type": "code",
      "source": [
        "#Use torch.arange(start, end, step)\n",
        "one_to_ten = torch.arange(1,11)\n",
        "one_to_ten"
      ],
      "metadata": {
        "id": "YX04mHnt_jd8",
        "colab": {
          "base_uri": "https://localhost:8080/"
        },
        "outputId": "57c29a7e-cc6b-4817-bac5-5ea7b2ae2b99"
      },
      "execution_count": null,
      "outputs": [
        {
          "output_type": "execute_result",
          "data": {
            "text/plain": [
              "tensor([ 1,  2,  3,  4,  5,  6,  7,  8,  9, 10])"
            ]
          },
          "metadata": {},
          "execution_count": 19
        }
      ]
    },
    {
      "cell_type": "code",
      "source": [
        "#Creating tensors-like : create same size of tensor as input tensor\n",
        "ten_zeros = torch.zeros_like(input=one_to_ten)\n",
        "ten_zeros"
      ],
      "metadata": {
        "colab": {
          "base_uri": "https://localhost:8080/"
        },
        "id": "a79F7IE5rTzn",
        "outputId": "2b6b9873-26f2-4494-d6a7-706281b4f9c1"
      },
      "execution_count": null,
      "outputs": [
        {
          "output_type": "execute_result",
          "data": {
            "text/plain": [
              "tensor([0, 0, 0, 0, 0, 0, 0, 0, 0, 0])"
            ]
          },
          "metadata": {},
          "execution_count": 20
        }
      ]
    },
    {
      "cell_type": "markdown",
      "source": [
        "###1.5 Tensor Datatype\n",
        "####**Note:** Tensor datatype is one of the three big errors you will run into with Pytorch and Deep Learning:\n",
        "\n",
        "1. Tensors not right datatype\n",
        "2. Tensors not right shape\n",
        "3. Tensors not on right device"
      ],
      "metadata": {
        "id": "yC9ysnemsCpj"
      }
    },
    {
      "cell_type": "code",
      "source": [
        "#Float32 Tensor\n",
        "Float_32_tensor = torch.tensor([3., 6., 9.], dtype=None) #The default datatype of tensor is float32\n",
        "Float_32_tensor.dtype"
      ],
      "metadata": {
        "colab": {
          "base_uri": "https://localhost:8080/"
        },
        "id": "Le2tuJTcsKE7",
        "outputId": "8e3f6eca-640d-4ee5-823d-de532bd9e17b"
      },
      "execution_count": null,
      "outputs": [
        {
          "output_type": "execute_result",
          "data": {
            "text/plain": [
              "torch.float32"
            ]
          },
          "metadata": {},
          "execution_count": 21
        }
      ]
    },
    {
      "cell_type": "code",
      "source": [
        "Test_tensor = torch.tensor([3., 6., 9.], dtype=torch.float16)\n",
        "Test_tensor.dtype\n"
      ],
      "metadata": {
        "colab": {
          "base_uri": "https://localhost:8080/"
        },
        "id": "6YJMF5RIsjSm",
        "outputId": "438a7a33-e194-4265-d844-f670e43248d5"
      },
      "execution_count": null,
      "outputs": [
        {
          "output_type": "execute_result",
          "data": {
            "text/plain": [
              "torch.float16"
            ]
          },
          "metadata": {},
          "execution_count": 22
        }
      ]
    },
    {
      "cell_type": "code",
      "source": [
        "Test_tensor = torch.tensor([3.,6.,9.],\n",
        "                           dtype=torch.float32,#what datatype tensor is\n",
        "                           device=None,  #what device your tensor is on\n",
        "                           requires_grad=False) #whether to track gradients with tensors operation"
      ],
      "metadata": {
        "id": "ka2gDFf4syqL"
      },
      "execution_count": null,
      "outputs": []
    },
    {
      "cell_type": "code",
      "source": [
        "float_16_tensor = Test_tensor.type(torch.float16) #Test_nesor.type(torch.half)\n",
        "float_16_tensor\n"
      ],
      "metadata": {
        "colab": {
          "base_uri": "https://localhost:8080/"
        },
        "id": "fJGdrgl3vDis",
        "outputId": "b5f3fbc5-fbdf-4246-9766-6bb185cb2f53"
      },
      "execution_count": null,
      "outputs": [
        {
          "output_type": "execute_result",
          "data": {
            "text/plain": [
              "tensor([3., 6., 9.], dtype=torch.float16)"
            ]
          },
          "metadata": {},
          "execution_count": 24
        }
      ]
    },
    {
      "cell_type": "code",
      "source": [
        "float_16_tensor * Test_tensor"
      ],
      "metadata": {
        "colab": {
          "base_uri": "https://localhost:8080/"
        },
        "id": "3GalzSTRvd-r",
        "outputId": "7234314b-cfe1-4098-83c6-32c3ad0dc9ce"
      },
      "execution_count": null,
      "outputs": [
        {
          "output_type": "execute_result",
          "data": {
            "text/plain": [
              "tensor([ 9., 36., 81.])"
            ]
          },
          "metadata": {},
          "execution_count": 25
        }
      ]
    },
    {
      "cell_type": "code",
      "source": [
        "#How to check tensor information #Tensor attribute\n",
        "#datatype = tensor.dtype\n",
        "#shape = tensor.shape, tensor.size() --> size() is a function\n",
        "#device = tensor.device"
      ],
      "metadata": {
        "id": "89K21Wsq8nzv"
      },
      "execution_count": null,
      "outputs": []
    },
    {
      "cell_type": "markdown",
      "source": [
        "### 1.6 Manipulating tensor (Tensor Operations)"
      ],
      "metadata": {
        "id": "Xl1xxQCZ980B"
      }
    },
    {
      "cell_type": "code",
      "source": [
        "#Tensor Manipulation (Tensor Operations)\n",
        "#Addition\n",
        "#Subtraction\n",
        "#Multiplication (element-wise)\n",
        "#Division\n",
        "#Matrix multiplication (dot product)"
      ],
      "metadata": {
        "id": "yjqCyVBp98ZM"
      },
      "execution_count": null,
      "outputs": []
    },
    {
      "cell_type": "code",
      "source": [
        "#Addition\n",
        "tensor = torch.tensor([1,2,3])\n",
        "tensor + 10"
      ],
      "metadata": {
        "colab": {
          "base_uri": "https://localhost:8080/"
        },
        "id": "Vo2Rm3Az8_Nb",
        "outputId": "f0fa4345-c355-4f2c-c484-30f693b2d248"
      },
      "execution_count": null,
      "outputs": [
        {
          "output_type": "execute_result",
          "data": {
            "text/plain": [
              "tensor([11, 12, 13])"
            ]
          },
          "metadata": {},
          "execution_count": 28
        }
      ]
    },
    {
      "cell_type": "code",
      "source": [
        "#Multiplication\n",
        "tensor * 10"
      ],
      "metadata": {
        "colab": {
          "base_uri": "https://localhost:8080/"
        },
        "id": "B2V2T1no-zgp",
        "outputId": "6ddd1077-94b9-4230-b333-bb2c42458777"
      },
      "execution_count": null,
      "outputs": [
        {
          "output_type": "execute_result",
          "data": {
            "text/plain": [
              "tensor([10, 20, 30])"
            ]
          },
          "metadata": {},
          "execution_count": 29
        }
      ]
    },
    {
      "cell_type": "code",
      "source": [
        "#Subtraction\n",
        "tensor - 10"
      ],
      "metadata": {
        "colab": {
          "base_uri": "https://localhost:8080/"
        },
        "id": "iwUC4Wr0-55Z",
        "outputId": "69b1dc47-d86b-461e-938d-7aaf2261b4f8"
      },
      "execution_count": null,
      "outputs": [
        {
          "output_type": "execute_result",
          "data": {
            "text/plain": [
              "tensor([-9, -8, -7])"
            ]
          },
          "metadata": {},
          "execution_count": 30
        }
      ]
    },
    {
      "cell_type": "code",
      "source": [
        "#Tensor built-in function\n",
        "torch.mul(tensor, 10), torch.add(tensor, 10), torch.sub(tensor, 10)"
      ],
      "metadata": {
        "colab": {
          "base_uri": "https://localhost:8080/"
        },
        "id": "7IkKk1gZ_NwT",
        "outputId": "3dfc4b29-3d67-460f-bd55-e7c79c704ad1"
      },
      "execution_count": null,
      "outputs": [
        {
          "output_type": "execute_result",
          "data": {
            "text/plain": [
              "(tensor([10, 20, 30]), tensor([11, 12, 13]), tensor([-9, -8, -7]))"
            ]
          },
          "metadata": {},
          "execution_count": 31
        }
      ]
    },
    {
      "cell_type": "code",
      "source": [
        "#Tensor Matrix multiplication\n",
        "torch.matmul(tensor, tensor)\n",
        "#Or\n",
        "#tensor @ tensor"
      ],
      "metadata": {
        "colab": {
          "base_uri": "https://localhost:8080/"
        },
        "id": "iGqMt2EZ_RVJ",
        "outputId": "a1285d99-50af-4766-f0b0-db0417e30c0c"
      },
      "execution_count": null,
      "outputs": [
        {
          "output_type": "execute_result",
          "data": {
            "text/plain": [
              "tensor(14)"
            ]
          },
          "metadata": {},
          "execution_count": 32
        }
      ]
    },
    {
      "cell_type": "markdown",
      "source": [
        "#####There are two main rules for matrix multiplication needs to be satisfied:\n",
        "1. The **inner dimension** must match\n",
        "2. The resulting matrix has the shape of **outer dimension**"
      ],
      "metadata": {
        "id": "p5YP0-hFGlfU"
      }
    },
    {
      "cell_type": "markdown",
      "source": [
        "####One of the most common errors in deep learning: **Shape Error**\n",
        "#####To deal with the shape error, we can use ***Transpose**\n",
        "`Transpose = Tensor.T `\n"
      ],
      "metadata": {
        "id": "Nh4b2XEiHRX2"
      }
    },
    {
      "cell_type": "code",
      "source": [
        "rand_tens = torch.rand(3,2)\n",
        "\n",
        "rand_tens, rand_tens.T\n"
      ],
      "metadata": {
        "id": "1ovVXslpFMTC",
        "colab": {
          "base_uri": "https://localhost:8080/"
        },
        "outputId": "e606315c-5745-48c2-da7d-23935dd6b53f"
      },
      "execution_count": null,
      "outputs": [
        {
          "output_type": "execute_result",
          "data": {
            "text/plain": [
              "(tensor([[0.5256, 0.0073],\n",
              "         [0.5425, 0.6632],\n",
              "         [0.9508, 0.0412]]),\n",
              " tensor([[0.5256, 0.5425, 0.9508],\n",
              "         [0.0073, 0.6632, 0.0412]]))"
            ]
          },
          "metadata": {},
          "execution_count": 33
        }
      ]
    },
    {
      "cell_type": "markdown",
      "source": [
        "### 1.7 Tensor Aggregation\n",
        "####Finding min, max, mean, sum, etc"
      ],
      "metadata": {
        "id": "JS69A8ZVjHxk"
      }
    },
    {
      "cell_type": "code",
      "source": [
        "rand_tensor = torch.arange(0,100,10)\n",
        "rand_tensor, rand_tensor.min(), rand_tensor.max(), rand_tensor.type(torch.float32).mean()\n",
        "#Could be torch.min(rand_tensor), torch.max(rand_tensor), torch.mean(rand_tensor.type(torch.float32))"
      ],
      "metadata": {
        "colab": {
          "base_uri": "https://localhost:8080/"
        },
        "id": "z4_19UOcjQ2d",
        "outputId": "28461782-5915-4d0a-beec-fa5adc7a73e1"
      },
      "execution_count": null,
      "outputs": [
        {
          "output_type": "execute_result",
          "data": {
            "text/plain": [
              "(tensor([ 0, 10, 20, 30, 40, 50, 60, 70, 80, 90]),\n",
              " tensor(0),\n",
              " tensor(90),\n",
              " tensor(45.))"
            ]
          },
          "metadata": {},
          "execution_count": 34
        }
      ]
    },
    {
      "cell_type": "code",
      "source": [
        "#Why change in dtype for mean() function?\n",
        "rand_tensor.dtype # torch.int64 == Long datatype\n",
        "# **NOTE**\n",
        "#Input dtype must be either a floating point or complex dtype for mean() function\n",
        "#Thus, we need to change the dtype of the tensor to use mean()\n",
        "#From the following result, we can also note that arange() function creates tensor with dtype of int64"
      ],
      "metadata": {
        "colab": {
          "base_uri": "https://localhost:8080/"
        },
        "id": "DCY7vWc_j14d",
        "outputId": "3a760723-517e-47af-da34-bed893a570a4"
      },
      "execution_count": null,
      "outputs": [
        {
          "output_type": "execute_result",
          "data": {
            "text/plain": [
              "torch.int64"
            ]
          },
          "metadata": {},
          "execution_count": 35
        }
      ]
    },
    {
      "cell_type": "code",
      "source": [
        "#Finding index of the min, max, mean value in the tensor\n",
        "rand_tensor.argmin(), rand_tensor.argmax() # == torch.argmin(rand_tensor), torch.argmax(rand_tensor)\n"
      ],
      "metadata": {
        "colab": {
          "base_uri": "https://localhost:8080/"
        },
        "id": "o63nUpfek_0R",
        "outputId": "9936f333-f853-4d30-b33a-b38e2ffd1ab9"
      },
      "execution_count": null,
      "outputs": [
        {
          "output_type": "execute_result",
          "data": {
            "text/plain": [
              "(tensor(0), tensor(9))"
            ]
          },
          "metadata": {},
          "execution_count": 36
        }
      ]
    },
    {
      "cell_type": "code",
      "source": [
        "tensor = torch.rand(10,10)\n",
        "tensor.argmax(), tensor.argmin()"
      ],
      "metadata": {
        "colab": {
          "base_uri": "https://localhost:8080/"
        },
        "id": "HDuIQBYKmQFC",
        "outputId": "92875b6a-b5cb-4340-ee33-438a380926c8"
      },
      "execution_count": null,
      "outputs": [
        {
          "output_type": "execute_result",
          "data": {
            "text/plain": [
              "(tensor(1), tensor(81))"
            ]
          },
          "metadata": {},
          "execution_count": 37
        }
      ]
    },
    {
      "cell_type": "markdown",
      "source": [
        "###1.8 Reshaping, stacking, squeezing and unsqueezing tensors\n",
        "#####These are the tools to deal with shape or dimesion errors\n",
        "* Reshaping: reshapes a tensor to a defined shape\n",
        "* View: return a view of an input tensor of certain shape but keep the same memory as the original tensor\n",
        "* Stacking: combine multiple tensors on top of each other (vstack-vertical stack, hstack-horizontal stack)\n",
        "* Squeeze: removes all `1` dimensions from a tensor\n",
        "* Unsqueeze: add a `1` dimension to a target tensor\n",
        "* Permute: Return a view of the input with dimensions permuted (swapped) in a certain way\n"
      ],
      "metadata": {
        "id": "3zSiLNFMnbPP"
      }
    },
    {
      "cell_type": "code",
      "source": [
        "# example tensor\n",
        "x = torch.arange(1., 11.)\n",
        "x, x.shape"
      ],
      "metadata": {
        "colab": {
          "base_uri": "https://localhost:8080/"
        },
        "id": "vIBGjOCbnZXa",
        "outputId": "cdcf83b0-08e9-47da-c5f5-bc162d32f57c"
      },
      "execution_count": null,
      "outputs": [
        {
          "output_type": "execute_result",
          "data": {
            "text/plain": [
              "(tensor([ 1.,  2.,  3.,  4.,  5.,  6.,  7.,  8.,  9., 10.]), torch.Size([10]))"
            ]
          },
          "metadata": {},
          "execution_count": 38
        }
      ]
    },
    {
      "cell_type": "code",
      "source": [
        "#Reshape the tensor\n",
        "#Add an extra dimension\n",
        "x.reshape(2,5), x.reshape(5,2)\n"
      ],
      "metadata": {
        "colab": {
          "base_uri": "https://localhost:8080/"
        },
        "id": "Dau5Ha_6qcMf",
        "outputId": "82f0bfbe-881c-4c99-8536-1d593687a1b1"
      },
      "execution_count": null,
      "outputs": [
        {
          "output_type": "execute_result",
          "data": {
            "text/plain": [
              "(tensor([[ 1.,  2.,  3.,  4.,  5.],\n",
              "         [ 6.,  7.,  8.,  9., 10.]]),\n",
              " tensor([[ 1.,  2.],\n",
              "         [ 3.,  4.],\n",
              "         [ 5.,  6.],\n",
              "         [ 7.,  8.],\n",
              "         [ 9., 10.]]))"
            ]
          },
          "metadata": {},
          "execution_count": 39
        }
      ]
    },
    {
      "cell_type": "code",
      "source": [
        "# Note that the input value for reshape should be correspond to the size of origianl tensor\n",
        "#the following example is invalid since it does not have all element of tensor x\n",
        "x.reshape(2,4)"
      ],
      "metadata": {
        "colab": {
          "base_uri": "https://localhost:8080/",
          "height": 180
        },
        "id": "4nm3ZzHUxPBA",
        "outputId": "4ffe4fc9-6439-4698-b832-8aefdb43d911"
      },
      "execution_count": null,
      "outputs": [
        {
          "output_type": "error",
          "ename": "RuntimeError",
          "evalue": "shape '[2, 4]' is invalid for input of size 10",
          "traceback": [
            "\u001b[0;31m---------------------------------------------------------------------------\u001b[0m",
            "\u001b[0;31mRuntimeError\u001b[0m                              Traceback (most recent call last)",
            "\u001b[0;32m<ipython-input-43-fc367c2ea653>\u001b[0m in \u001b[0;36m<cell line: 3>\u001b[0;34m()\u001b[0m\n\u001b[1;32m      1\u001b[0m \u001b[0;31m# Note that the input value for reshape should be correspond to the size of origianl tensor\u001b[0m\u001b[0;34m\u001b[0m\u001b[0;34m\u001b[0m\u001b[0m\n\u001b[1;32m      2\u001b[0m \u001b[0;31m#the following example is invalid\u001b[0m\u001b[0;34m\u001b[0m\u001b[0;34m\u001b[0m\u001b[0m\n\u001b[0;32m----> 3\u001b[0;31m \u001b[0mx\u001b[0m\u001b[0;34m.\u001b[0m\u001b[0mreshape\u001b[0m\u001b[0;34m(\u001b[0m\u001b[0;36m2\u001b[0m\u001b[0;34m,\u001b[0m\u001b[0;36m4\u001b[0m\u001b[0;34m)\u001b[0m\u001b[0;34m\u001b[0m\u001b[0;34m\u001b[0m\u001b[0m\n\u001b[0m",
            "\u001b[0;31mRuntimeError\u001b[0m: shape '[2, 4]' is invalid for input of size 10"
          ]
        }
      ]
    },
    {
      "cell_type": "code",
      "source": [
        "x.reshape(2,5).shape, x.reshape(5,2).shape"
      ],
      "metadata": {
        "colab": {
          "base_uri": "https://localhost:8080/"
        },
        "id": "e1pce2XsqmIZ",
        "outputId": "560491cc-c1c0-4735-97c3-9be1843c49e8"
      },
      "execution_count": null,
      "outputs": [
        {
          "output_type": "execute_result",
          "data": {
            "text/plain": [
              "(torch.Size([2, 5]), torch.Size([5, 2]))"
            ]
          },
          "metadata": {},
          "execution_count": 40
        }
      ]
    },
    {
      "cell_type": "code",
      "source": [
        "# Change the View **Note that a view of a tensor share the same memory as the origianl tensor\n",
        "z = x.view(2,5)\n",
        "#Here we adjust z\n",
        "z[:,0] = 5 #Here we adjusted tensor z\n",
        "z, x #But checking z and x, both same element has been changed since view()"
      ],
      "metadata": {
        "colab": {
          "base_uri": "https://localhost:8080/"
        },
        "id": "N47GF9GXqsV2",
        "outputId": "8352340b-b7f0-4793-97b0-ae7eb0aa0da2"
      },
      "execution_count": null,
      "outputs": [
        {
          "output_type": "execute_result",
          "data": {
            "text/plain": [
              "(tensor([[ 5.,  2.,  3.,  4.,  5.],\n",
              "         [ 5.,  7.,  8.,  9., 10.]]),\n",
              " tensor([ 5.,  2.,  3.,  4.,  5.,  5.,  7.,  8.,  9., 10.]))"
            ]
          },
          "metadata": {},
          "execution_count": 41
        }
      ]
    },
    {
      "cell_type": "code",
      "source": [
        "# Stack tensors on top of each other\n",
        "\n",
        "stacked = torch.stack([x,x,x,x], dim=0)\n",
        "stacked\n"
      ],
      "metadata": {
        "colab": {
          "base_uri": "https://localhost:8080/"
        },
        "id": "I9E07sRxsC1D",
        "outputId": "06fe388b-3907-42a4-9b86-0cd34ecd7685"
      },
      "execution_count": null,
      "outputs": [
        {
          "output_type": "execute_result",
          "data": {
            "text/plain": [
              "tensor([[ 5.,  2.,  3.,  4.,  5.,  5.,  7.,  8.,  9., 10.],\n",
              "        [ 5.,  2.,  3.,  4.,  5.,  5.,  7.,  8.,  9., 10.],\n",
              "        [ 5.,  2.,  3.,  4.,  5.,  5.,  7.,  8.,  9., 10.],\n",
              "        [ 5.,  2.,  3.,  4.,  5.,  5.,  7.,  8.,  9., 10.]])"
            ]
          },
          "metadata": {},
          "execution_count": 42
        }
      ]
    },
    {
      "cell_type": "code",
      "source": [
        "stacked2 = torch.stack([x,x,x,x], dim=1)\n",
        "stacked2"
      ],
      "metadata": {
        "colab": {
          "base_uri": "https://localhost:8080/"
        },
        "id": "nN1JZk3RveTU",
        "outputId": "7fd52bd9-752f-4cf1-df35-8418951d3e99"
      },
      "execution_count": null,
      "outputs": [
        {
          "output_type": "execute_result",
          "data": {
            "text/plain": [
              "tensor([[ 5.,  5.,  5.,  5.],\n",
              "        [ 2.,  2.,  2.,  2.],\n",
              "        [ 3.,  3.,  3.,  3.],\n",
              "        [ 4.,  4.,  4.,  4.],\n",
              "        [ 5.,  5.,  5.,  5.],\n",
              "        [ 5.,  5.,  5.,  5.],\n",
              "        [ 7.,  7.,  7.,  7.],\n",
              "        [ 8.,  8.,  8.,  8.],\n",
              "        [ 9.,  9.,  9.,  9.],\n",
              "        [10., 10., 10., 10.]])"
            ]
          },
          "metadata": {},
          "execution_count": 44
        }
      ]
    },
    {
      "cell_type": "code",
      "source": [
        "#vstack vs hstack\n",
        "#vstack =  stack tensors in sequence vertically (row wise)\n",
        "#hstack =  stack tensors in sequence horizontally (column wise)\n",
        "a = torch.rand(2,2)\n",
        "b = torch.rand(2,2)\n",
        "a,b"
      ],
      "metadata": {
        "colab": {
          "base_uri": "https://localhost:8080/"
        },
        "id": "LeeQRwf7yxEd",
        "outputId": "f7c30670-b9e5-4a80-c946-90bf7ed865d3"
      },
      "execution_count": null,
      "outputs": [
        {
          "output_type": "execute_result",
          "data": {
            "text/plain": [
              "(tensor([[0.0862, 0.7321],\n",
              "         [0.7634, 0.0681]]),\n",
              " tensor([[0.1537, 0.3410],\n",
              "         [0.5295, 0.9480]]))"
            ]
          },
          "metadata": {},
          "execution_count": 49
        }
      ]
    },
    {
      "cell_type": "code",
      "source": [
        "torch.vstack((a,b)), torch.hstack((a,b))"
      ],
      "metadata": {
        "colab": {
          "base_uri": "https://localhost:8080/"
        },
        "id": "jyzFleSaz0mv",
        "outputId": "5a7bb168-1b45-4189-808f-71a44d92df53"
      },
      "execution_count": null,
      "outputs": [
        {
          "output_type": "execute_result",
          "data": {
            "text/plain": [
              "(tensor([[0.0862, 0.7321],\n",
              "         [0.7634, 0.0681],\n",
              "         [0.1537, 0.3410],\n",
              "         [0.5295, 0.9480]]),\n",
              " tensor([[0.0862, 0.7321, 0.1537, 0.3410],\n",
              "         [0.7634, 0.0681, 0.5295, 0.9480]]))"
            ]
          },
          "metadata": {},
          "execution_count": 50
        }
      ]
    },
    {
      "cell_type": "code",
      "source": [
        "#Squeez and Unsqueeze\n",
        "#torch.squeeze = remove all single dimensions from the target tensor\n",
        "#torch.unsqueeze = add a single dimension to a target tensor at a specific dim\n",
        "\n",
        "x = torch.zeros(1,2)\n",
        "x, x.size()"
      ],
      "metadata": {
        "colab": {
          "base_uri": "https://localhost:8080/"
        },
        "id": "Ho0K-SiJy8kf",
        "outputId": "9cef10e0-3369-4562-e61f-5201e4dc01b0"
      },
      "execution_count": null,
      "outputs": [
        {
          "output_type": "execute_result",
          "data": {
            "text/plain": [
              "(tensor([[0., 0.]]), torch.Size([1, 2]))"
            ]
          },
          "metadata": {},
          "execution_count": 54
        }
      ]
    },
    {
      "cell_type": "code",
      "source": [
        "x.squeeze(), x.squeeze().shape"
      ],
      "metadata": {
        "colab": {
          "base_uri": "https://localhost:8080/"
        },
        "id": "JNwISMHf0vuo",
        "outputId": "bf36349a-9b21-40f3-dc81-a9f491d57a17"
      },
      "execution_count": null,
      "outputs": [
        {
          "output_type": "execute_result",
          "data": {
            "text/plain": [
              "(tensor([0., 0.]), torch.Size([2]))"
            ]
          },
          "metadata": {},
          "execution_count": 56
        }
      ]
    },
    {
      "cell_type": "code",
      "source": [
        "y = torch.zeros(2,1,2,1,2)\n",
        "y, y.size()"
      ],
      "metadata": {
        "colab": {
          "base_uri": "https://localhost:8080/"
        },
        "id": "-1z2AQB21ReH",
        "outputId": "efc6f0a6-f6bd-43a4-f3b3-d833937b65ca"
      },
      "execution_count": null,
      "outputs": [
        {
          "output_type": "execute_result",
          "data": {
            "text/plain": [
              "(tensor([[[[[0., 0.]],\n",
              " \n",
              "           [[0., 0.]]]],\n",
              " \n",
              " \n",
              " \n",
              "         [[[[0., 0.]],\n",
              " \n",
              "           [[0., 0.]]]]]),\n",
              " torch.Size([2, 1, 2, 1, 2]))"
            ]
          },
          "metadata": {},
          "execution_count": 59
        }
      ]
    },
    {
      "cell_type": "code",
      "source": [
        "y.squeeze(), y.squeeze().shape"
      ],
      "metadata": {
        "colab": {
          "base_uri": "https://localhost:8080/"
        },
        "id": "W3rD9DHI1ZyJ",
        "outputId": "904bbbc6-0ef8-487b-e8f0-8d2270869e9a"
      },
      "execution_count": null,
      "outputs": [
        {
          "output_type": "execute_result",
          "data": {
            "text/plain": [
              "(tensor([[[0., 0.],\n",
              "          [0., 0.]],\n",
              " \n",
              "         [[0., 0.],\n",
              "          [0., 0.]]]),\n",
              " torch.Size([2, 2, 2]))"
            ]
          },
          "metadata": {},
          "execution_count": 60
        }
      ]
    },
    {
      "cell_type": "code",
      "source": [
        "#Unsqueeze with dim = 0\n",
        "x_squeezed = x.squeeze()\n",
        "x_unsqueezed = x_squeezed.unsqueeze(dim=0)\n",
        "x_squeezed, x_unsqueezed"
      ],
      "metadata": {
        "colab": {
          "base_uri": "https://localhost:8080/"
        },
        "id": "ZqrTvtfJ1gWD",
        "outputId": "c1953f29-cacc-4df9-970a-5570b3158386"
      },
      "execution_count": null,
      "outputs": [
        {
          "output_type": "execute_result",
          "data": {
            "text/plain": [
              "(tensor([0., 0.]), tensor([[0., 0.]]))"
            ]
          },
          "metadata": {},
          "execution_count": 63
        }
      ]
    },
    {
      "cell_type": "code",
      "source": [
        "#Unsqueeze with dim = 1\n",
        "x_squeezed = x.squeeze()\n",
        "x_unsqueezed = x_squeezed.unsqueeze(dim=1)\n",
        "x_squeezed, x_unsqueezed\n"
      ],
      "metadata": {
        "colab": {
          "base_uri": "https://localhost:8080/"
        },
        "id": "zA-pa3lJ2Llj",
        "outputId": "49bc8792-b90d-4cb6-de32-b992208112d7"
      },
      "execution_count": null,
      "outputs": [
        {
          "output_type": "execute_result",
          "data": {
            "text/plain": [
              "(tensor([0., 0.]),\n",
              " tensor([[0.],\n",
              "         [0.]]))"
            ]
          },
          "metadata": {},
          "execution_count": 64
        }
      ]
    },
    {
      "cell_type": "code",
      "source": [
        "#torch.permute = rearrange the dimension of a target tensor in a specified order\n",
        "photo = torch.rand(224,224,3)\n",
        "photo_permuted = photo.permute(2,0,1)\n",
        "photo.shape, photo_permuted.shape\n",
        "#The number in the permute() represent the dimesion's index\n",
        "#Note that permute is also a view that shares the same memory as the original tensor"
      ],
      "metadata": {
        "colab": {
          "base_uri": "https://localhost:8080/"
        },
        "id": "gUJBS4F_2V1d",
        "outputId": "a3ee3770-4742-4c19-df0e-95093178ee8c"
      },
      "execution_count": null,
      "outputs": [
        {
          "output_type": "execute_result",
          "data": {
            "text/plain": [
              "(torch.Size([224, 224, 3]), torch.Size([3, 224, 224]))"
            ]
          },
          "metadata": {},
          "execution_count": 65
        }
      ]
    },
    {
      "cell_type": "markdown",
      "source": [
        "### 1.9 Tensor Indexing\n",
        "####Indexing in PyTorch is similar to indexing with Numpy"
      ],
      "metadata": {
        "id": "dT5rofvu3uqk"
      }
    },
    {
      "cell_type": "code",
      "source": [
        "a = torch.arange(1,10).reshape(1,3,3)\n",
        "a"
      ],
      "metadata": {
        "colab": {
          "base_uri": "https://localhost:8080/"
        },
        "id": "QFfj6OS4B-Ao",
        "outputId": "8fd7e644-46d9-4a81-a349-26023f365a2a"
      },
      "execution_count": null,
      "outputs": [
        {
          "output_type": "execute_result",
          "data": {
            "text/plain": [
              "tensor([[[1, 2, 3],\n",
              "         [4, 5, 6],\n",
              "         [7, 8, 9]]])"
            ]
          },
          "metadata": {},
          "execution_count": 5
        }
      ]
    },
    {
      "cell_type": "code",
      "source": [
        "a[0], a[0,0] # == a[0][0]"
      ],
      "metadata": {
        "colab": {
          "base_uri": "https://localhost:8080/"
        },
        "id": "mCbDcxiLCvdC",
        "outputId": "2e5be0b6-8e2f-43ec-a078-43521a32f607"
      },
      "execution_count": null,
      "outputs": [
        {
          "output_type": "execute_result",
          "data": {
            "text/plain": [
              "(tensor([[1, 2, 3],\n",
              "         [4, 5, 6],\n",
              "         [7, 8, 9]]),\n",
              " tensor([1, 2, 3]))"
            ]
          },
          "metadata": {},
          "execution_count": 6
        }
      ]
    },
    {
      "cell_type": "code",
      "source": [
        "# You can use : to select \"all\" of the target dimension\n",
        "a[:,:,2] # == indexing all element in 0th and 1st dimensions, but only index 2 of 2nd dimension"
      ],
      "metadata": {
        "colab": {
          "base_uri": "https://localhost:8080/"
        },
        "id": "Rp6dnU2kDAgP",
        "outputId": "69c01b64-24b1-48eb-b943-46a7817e9d19"
      },
      "execution_count": null,
      "outputs": [
        {
          "output_type": "execute_result",
          "data": {
            "text/plain": [
              "tensor([[3, 6, 9]])"
            ]
          },
          "metadata": {},
          "execution_count": 7
        }
      ]
    },
    {
      "cell_type": "code",
      "source": [
        "a[:,1,1] # similar to  a[0][1][1] but the difference is [] is included"
      ],
      "metadata": {
        "colab": {
          "base_uri": "https://localhost:8080/"
        },
        "id": "iGHrNgnWD7rt",
        "outputId": "b463cf91-0b8a-4514-8b72-be40d33dcc75"
      },
      "execution_count": null,
      "outputs": [
        {
          "output_type": "execute_result",
          "data": {
            "text/plain": [
              "tensor([5])"
            ]
          },
          "metadata": {},
          "execution_count": 9
        }
      ]
    },
    {
      "cell_type": "markdown",
      "source": [
        "####PyTorch tensor and NumPy\n",
        "#####NumPy is a popular scientific Python numerical computing library\n",
        "#####And because of this, PyTorch has functionality to interact wiht it\n",
        "* Data in NumPy to PyTorch tensor -> `torch.from_numpy(ndarray)`  \n",
        "*PyTorch tensor -> Data in NumPy -> `torch.Tensor.numpy()`"
      ],
      "metadata": {
        "id": "FOvwQprBE9I1"
      }
    },
    {
      "cell_type": "code",
      "source": [
        "#NumPy array to Tensor\n",
        "import torch\n",
        "import numpy as np\n",
        "\n",
        "array = np.arange(1.,8.)\n",
        "tensor = torch.from_numpy(array)\n",
        "array, tensor"
      ],
      "metadata": {
        "colab": {
          "base_uri": "https://localhost:8080/"
        },
        "id": "rBAXnGKRFz9G",
        "outputId": "9f28da01-5a59-4a91-dde8-f84525d4323e"
      },
      "execution_count": null,
      "outputs": [
        {
          "output_type": "execute_result",
          "data": {
            "text/plain": [
              "(array([1., 2., 3., 4., 5., 6., 7.]),\n",
              " tensor([1., 2., 3., 4., 5., 6., 7.], dtype=torch.float64))"
            ]
          },
          "metadata": {},
          "execution_count": 12
        }
      ]
    },
    {
      "cell_type": "code",
      "source": [
        "array.dtype #the default data type is float64"
      ],
      "metadata": {
        "colab": {
          "base_uri": "https://localhost:8080/"
        },
        "id": "KdVzlTpZGNHT",
        "outputId": "8a18b367-7211-492a-ca4b-c4656a79d4ed"
      },
      "execution_count": null,
      "outputs": [
        {
          "output_type": "execute_result",
          "data": {
            "text/plain": [
              "dtype('float64')"
            ]
          },
          "metadata": {},
          "execution_count": 13
        }
      ]
    },
    {
      "cell_type": "code",
      "source": [
        " tensor.dtype\n",
        " #warning: when converting numpy -> pytorch, pytorch reflects the default datatype of numpy unless specified"
      ],
      "metadata": {
        "colab": {
          "base_uri": "https://localhost:8080/"
        },
        "id": "TVHrqAZxIAk8",
        "outputId": "1022d9a8-6d7d-4595-8e06-b919b7b843a6"
      },
      "execution_count": null,
      "outputs": [
        {
          "output_type": "execute_result",
          "data": {
            "text/plain": [
              "torch.float64"
            ]
          },
          "metadata": {},
          "execution_count": 15
        }
      ]
    },
    {
      "cell_type": "code",
      "source": [
        "#if we change the value in array, what will happen in tensor\n",
        "array = array + 1\n",
        "array, tensor\n",
        "#it does not change the tensor"
      ],
      "metadata": {
        "colab": {
          "base_uri": "https://localhost:8080/"
        },
        "id": "nlHPjADdIfZl",
        "outputId": "3ade0c0d-4e25-464a-94ed-bf06d3ea4d7d"
      },
      "execution_count": null,
      "outputs": [
        {
          "output_type": "execute_result",
          "data": {
            "text/plain": [
              "(array([2., 3., 4., 5., 6., 7., 8.]),\n",
              " tensor([1., 2., 3., 4., 5., 6., 7.], dtype=torch.float64))"
            ]
          },
          "metadata": {},
          "execution_count": 16
        }
      ]
    },
    {
      "cell_type": "code",
      "source": [
        "# Tensor to NumPy array\n",
        "tensor = torch.ones(7)\n",
        "numpy_tensor = tensor.numpy()\n",
        "tensor, numpy_tensor\n",
        "# Also note that change in element of tensor does not change the element in the numpy array"
      ],
      "metadata": {
        "colab": {
          "base_uri": "https://localhost:8080/"
        },
        "id": "oY_LvMcVI3YA",
        "outputId": "137d7783-087a-47a2-f529-0b337a2618a3"
      },
      "execution_count": null,
      "outputs": [
        {
          "output_type": "execute_result",
          "data": {
            "text/plain": [
              "(tensor([1., 1., 1., 1., 1., 1., 1.]),\n",
              " array([1., 1., 1., 1., 1., 1., 1.], dtype=float32))"
            ]
          },
          "metadata": {},
          "execution_count": 17
        }
      ]
    },
    {
      "cell_type": "markdown",
      "source": [
        "## 2.0 Reproducibility (Trying to take random out of random)\n",
        "\n",
        "#####In short, how neural network learns:\n",
        "`start with random numbers -> tensor operation -> update random numbers to make them better represent data -> repeat the operation`\n",
        "##### To reduce the randomness in neural networks, PyTorch uses the concept of **random seed**.\n",
        "\n",
        "#### \"Random seed **flavour** the randomness.\"\n"
      ],
      "metadata": {
        "id": "Megk9yzYMIvG"
      }
    },
    {
      "cell_type": "code",
      "source": [
        "#Make random but reproducible tensor\n",
        "import torch\n",
        "\n",
        "#Set random seed\n",
        "RANDOM_SEED = 1234\n",
        "\n",
        "torch.manual_seed(RANDOM_SEED) #initialize a pseudorandom number generator\n",
        "rand_tensor_A = torch.rand(3,4)\n",
        "rand_tensor_B = torch.rand(3,4)\n",
        "\n",
        "print(rand_tensor_A)\n",
        "print(rand_tensor_B)\n",
        "print(rand_tensor_A == rand_tensor_B)"
      ],
      "metadata": {
        "colab": {
          "base_uri": "https://localhost:8080/"
        },
        "id": "AcfvqQ_wMVWi",
        "outputId": "42e3dcf5-222c-4788-9222-1748cb162c6d"
      },
      "execution_count": null,
      "outputs": [
        {
          "output_type": "stream",
          "name": "stdout",
          "text": [
            "tensor([[0.0290, 0.4019, 0.2598, 0.3666],\n",
            "        [0.0583, 0.7006, 0.0518, 0.4681],\n",
            "        [0.6738, 0.3315, 0.7837, 0.5631]])\n",
            "tensor([[0.7749, 0.8208, 0.2793, 0.6817],\n",
            "        [0.2837, 0.6567, 0.2388, 0.7313],\n",
            "        [0.6012, 0.3043, 0.2548, 0.6294]])\n",
            "tensor([[False, False, False, False],\n",
            "        [False, False, False, False],\n",
            "        [False, False, False, False]])\n"
          ]
        }
      ]
    },
    {
      "cell_type": "code",
      "source": [
        "#Set random seed\n",
        "RANDOM_SEED = 1234\n",
        "\n",
        "torch.manual_seed(RANDOM_SEED)\n",
        "rand_tensor_A = torch.rand(3,4)\n",
        "torch.manual_seed(RANDOM_SEED) # == reset the random seed\n",
        "rand_tensor_B = torch.rand(3,4)\n",
        "\n",
        "print(rand_tensor_A)\n",
        "print(rand_tensor_B)\n",
        "print(rand_tensor_A == rand_tensor_B)"
      ],
      "metadata": {
        "colab": {
          "base_uri": "https://localhost:8080/"
        },
        "id": "hYxuMkEjTwRC",
        "outputId": "516aced8-e7e6-4949-ce84-502ff35bb2c0"
      },
      "execution_count": null,
      "outputs": [
        {
          "output_type": "stream",
          "name": "stdout",
          "text": [
            "tensor([[0.0290, 0.4019, 0.2598, 0.3666],\n",
            "        [0.0583, 0.7006, 0.0518, 0.4681],\n",
            "        [0.6738, 0.3315, 0.7837, 0.5631]])\n",
            "tensor([[0.0290, 0.4019, 0.2598, 0.3666],\n",
            "        [0.0583, 0.7006, 0.0518, 0.4681],\n",
            "        [0.6738, 0.3315, 0.7837, 0.5631]])\n",
            "tensor([[True, True, True, True],\n",
            "        [True, True, True, True],\n",
            "        [True, True, True, True]])\n"
          ]
        }
      ]
    },
    {
      "cell_type": "markdown",
      "source": [
        "### 2.0.0 Accessing a GPU\n",
        "\n",
        "####For PyTorch, since it is capable of running compute on GPU or CPU, it's best practice to setup device agnostic code  "
      ],
      "metadata": {
        "id": "qypsDxy1EU4L"
      }
    },
    {
      "cell_type": "code",
      "source": [
        "!nvidia-smi"
      ],
      "metadata": {
        "colab": {
          "base_uri": "https://localhost:8080/"
        },
        "id": "ZiKd_fkWFYvW",
        "outputId": "8bd85de4-0318-4e11-bbf2-71ff9d4e51d1"
      },
      "execution_count": 3,
      "outputs": [
        {
          "output_type": "stream",
          "name": "stdout",
          "text": [
            "Mon Aug 26 09:47:50 2024       \n",
            "+---------------------------------------------------------------------------------------+\n",
            "| NVIDIA-SMI 535.104.05             Driver Version: 535.104.05   CUDA Version: 12.2     |\n",
            "|-----------------------------------------+----------------------+----------------------+\n",
            "| GPU  Name                 Persistence-M | Bus-Id        Disp.A | Volatile Uncorr. ECC |\n",
            "| Fan  Temp   Perf          Pwr:Usage/Cap |         Memory-Usage | GPU-Util  Compute M. |\n",
            "|                                         |                      |               MIG M. |\n",
            "|=========================================+======================+======================|\n",
            "|   0  Tesla T4                       Off | 00000000:00:04.0 Off |                    0 |\n",
            "| N/A   42C    P8               9W /  70W |      3MiB / 15360MiB |      0%      Default |\n",
            "|                                         |                      |                  N/A |\n",
            "+-----------------------------------------+----------------------+----------------------+\n",
            "                                                                                         \n",
            "+---------------------------------------------------------------------------------------+\n",
            "| Processes:                                                                            |\n",
            "|  GPU   GI   CI        PID   Type   Process name                            GPU Memory |\n",
            "|        ID   ID                                                             Usage      |\n",
            "|=======================================================================================|\n",
            "|  No running processes found                                                           |\n",
            "+---------------------------------------------------------------------------------------+\n"
          ]
        }
      ]
    },
    {
      "cell_type": "code",
      "source": [
        "# Setup device agnostic code\n",
        "import torch\n",
        "\n",
        "device = 'cuda' if torch.cuda.is_available() else 'cpu'\n",
        "device"
      ],
      "metadata": {
        "colab": {
          "base_uri": "https://localhost:8080/",
          "height": 35
        },
        "id": "ae85z8VUEx-n",
        "outputId": "05c496bb-a8d7-4fa5-c4bf-2552dda6b037"
      },
      "execution_count": 1,
      "outputs": [
        {
          "output_type": "execute_result",
          "data": {
            "text/plain": [
              "'cuda'"
            ],
            "application/vnd.google.colaboratory.intrinsic+json": {
              "type": "string"
            }
          },
          "metadata": {},
          "execution_count": 1
        }
      ]
    },
    {
      "cell_type": "code",
      "source": [
        "#Count for number of device\n",
        "torch.cuda.device_count()"
      ],
      "metadata": {
        "colab": {
          "base_uri": "https://localhost:8080/"
        },
        "id": "gatU0ZxpFGNO",
        "outputId": "6fdc0a3b-2dc6-4903-f05f-539625b5c2ed"
      },
      "execution_count": 2,
      "outputs": [
        {
          "output_type": "execute_result",
          "data": {
            "text/plain": [
              "1"
            ]
          },
          "metadata": {},
          "execution_count": 2
        }
      ]
    },
    {
      "cell_type": "markdown",
      "source": [
        "##2.1 Putting tensors (and models) on GPU\n",
        "\n",
        "###Reason for putting tnesors on GPU: Faster computation"
      ],
      "metadata": {
        "id": "tPM68nkaFSKR"
      }
    },
    {
      "cell_type": "code",
      "source": [
        "tensor = torch.tensor([1,2,3])\n",
        "print(tensor, tensor.device)\n",
        "#Recall that the default value of device is cpu"
      ],
      "metadata": {
        "colab": {
          "base_uri": "https://localhost:8080/"
        },
        "id": "syj2cBtlGKjO",
        "outputId": "0146609d-8db2-4286-81e8-b55b505f8035"
      },
      "execution_count": 5,
      "outputs": [
        {
          "output_type": "stream",
          "name": "stdout",
          "text": [
            "tensor([1, 2, 3]) cpu\n"
          ]
        }
      ]
    },
    {
      "cell_type": "code",
      "source": [
        "#Move the tensor to GPU IF AVAILABLE\n",
        "tensor_on_gpu = tensor.to(device) # this is the reason why we define value 'device'\n",
        "tensor_on_gpu\n",
        "#the number represents index of the device"
      ],
      "metadata": {
        "colab": {
          "base_uri": "https://localhost:8080/"
        },
        "id": "JbNW1HKkGbgk",
        "outputId": "024bd6d3-d184-4cad-d188-54d719d553fc"
      },
      "execution_count": 6,
      "outputs": [
        {
          "output_type": "execute_result",
          "data": {
            "text/plain": [
              "tensor([1, 2, 3], device='cuda:0')"
            ]
          },
          "metadata": {},
          "execution_count": 6
        }
      ]
    },
    {
      "cell_type": "code",
      "source": [
        "# Note that if a tensor is on GPU, it cannot transform to NumPy\n",
        "tensor_on_gpu.numpy()"
      ],
      "metadata": {
        "id": "7nEeQs3MGsFI"
      },
      "execution_count": null,
      "outputs": []
    },
    {
      "cell_type": "code",
      "source": [
        "#To fix the error,\n",
        "#First, we conver the device to CPU and apply NumPy\n",
        "tensor_back_on_cpu = tensor_on_gpu.cpu().numpy()\n",
        "tensor_back_on_cpu"
      ],
      "metadata": {
        "id": "IVJdNJvcHdt-"
      },
      "execution_count": null,
      "outputs": []
    },
    {
      "cell_type": "markdown",
      "source": [
        "##Exercise and Extra-curricular for fundamentals"
      ],
      "metadata": {
        "id": "GyE6bC5XIK2m"
      }
    },
    {
      "cell_type": "code",
      "source": [],
      "metadata": {
        "id": "ABYlK80hIS0w"
      },
      "execution_count": null,
      "outputs": []
    }
  ]
}