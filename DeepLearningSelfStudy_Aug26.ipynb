{
  "nbformat": 4,
  "nbformat_minor": 0,
  "metadata": {
    "colab": {
      "provenance": [],
      "gpuType": "T4",
      "toc_visible": true,
      "authorship_tag": "ABX9TyNMIkKZQnjkc9L4W3zC9ZDT"
    },
    "kernelspec": {
      "name": "python3",
      "display_name": "Python 3"
    },
    "language_info": {
      "name": "python"
    },
    "accelerator": "GPU"
  },
  "cells": [
    {
      "cell_type": "markdown",
      "source": [
        "#PyTorch Workflow\n",
        "\n",
        "1. Data (preparation and load)\n",
        "2. Build Model\n",
        "3. Fitting the model to data (Training)\n",
        "4. Making predictions and evaluating model (Inference)\n",
        "5. Saving and loading model\n",
        "6. Combining all together"
      ],
      "metadata": {
        "id": "432elS3PLgkx"
      }
    },
    {
      "cell_type": "code",
      "execution_count": 29,
      "metadata": {
        "colab": {
          "base_uri": "https://localhost:8080/",
          "height": 35
        },
        "id": "oRDmZAm7KKlC",
        "outputId": "e16cb9fb-e1e6-46e2-f15e-fedaee916af4"
      },
      "outputs": [
        {
          "output_type": "execute_result",
          "data": {
            "text/plain": [
              "'2.4.0+cu121'"
            ],
            "application/vnd.google.colaboratory.intrinsic+json": {
              "type": "string"
            }
          },
          "metadata": {},
          "execution_count": 29
        }
      ],
      "source": [
        "import torch\n",
        "from torch import nn #nn contains all of PyTorch building blocks for neural networks\n",
        "import matplotlib.pyplot as plt\n",
        "\n",
        "#Check PyTorch version\n",
        "torch.__version__"
      ]
    },
    {
      "cell_type": "markdown",
      "source": [
        "##1.0 Data (Preparing and Loading)\n",
        "\n",
        "###Data can be any format in machine learning\n",
        "\n",
        "* Excel spreadsheet\n",
        "* Image\n",
        "* Videos (Youtube)\n",
        "* Audio (Songs or Podcasts)\n",
        "* DNA\n",
        "* Text\n",
        "\n",
        "###Machine Learning can be divided into two parts:\n",
        "1. Get data into numerical representation\n",
        "2. Build a model to learn patterns in that numerical representation\n",
        "\n",
        "#### Use Linear Regression with *known* **parameter** to create *known* data\n",
        "\n"
      ],
      "metadata": {
        "id": "pncBevj0M1Nv"
      }
    },
    {
      "cell_type": "code",
      "source": [
        "\n",
        "#Create *known* parameter\n",
        "# y = bX + a\n",
        "weight = 0.7 # == b\n",
        "bias = 0.3 # == a\n",
        "\n",
        "# Create\n",
        "start = 0\n",
        "end = 1\n",
        "step = 0.02\n",
        "X = torch.arange(start,end,step).unsqueeze(dim=1) # Input\n",
        "y = weight * X + bias # Output\n",
        "\n",
        "X[:10], y[:10]"
      ],
      "metadata": {
        "colab": {
          "base_uri": "https://localhost:8080/"
        },
        "id": "q1TTPpL8O4Y4",
        "outputId": "03c0279d-0fbc-4b26-9e66-877b98b672b0"
      },
      "execution_count": 30,
      "outputs": [
        {
          "output_type": "execute_result",
          "data": {
            "text/plain": [
              "(tensor([[0.0000],\n",
              "         [0.0200],\n",
              "         [0.0400],\n",
              "         [0.0600],\n",
              "         [0.0800],\n",
              "         [0.1000],\n",
              "         [0.1200],\n",
              "         [0.1400],\n",
              "         [0.1600],\n",
              "         [0.1800]]),\n",
              " tensor([[0.3000],\n",
              "         [0.3140],\n",
              "         [0.3280],\n",
              "         [0.3420],\n",
              "         [0.3560],\n",
              "         [0.3700],\n",
              "         [0.3840],\n",
              "         [0.3980],\n",
              "         [0.4120],\n",
              "         [0.4260]]))"
            ]
          },
          "metadata": {},
          "execution_count": 30
        }
      ]
    },
    {
      "cell_type": "code",
      "source": [
        "len(X), len(y)"
      ],
      "metadata": {
        "colab": {
          "base_uri": "https://localhost:8080/"
        },
        "id": "Kg2So2XRRrdd",
        "outputId": "b4e0174d-f44d-44e8-8c01-7d543f57f610"
      },
      "execution_count": 31,
      "outputs": [
        {
          "output_type": "execute_result",
          "data": {
            "text/plain": [
              "(50, 50)"
            ]
          },
          "metadata": {},
          "execution_count": 31
        }
      ]
    },
    {
      "cell_type": "markdown",
      "source": [
        "###1.1 Splitting data into training and testing sets (One of the most important concepts in machine learning in general)"
      ],
      "metadata": {
        "id": "ltYJO_RVRZqB"
      }
    },
    {
      "cell_type": "code",
      "source": [
        "#Create train split and test split\n",
        "train_split = int(0.8 * len(X)) # 80% of data\n",
        "X_train, y_train = X[:train_split], y[:train_split]\n",
        "X_test, y_test = X[train_split:], y[train_split:]\n",
        "len(X_train), len(y_train), len(X_test), len(y_test)\n",
        "#in this example, we are using simple data set, for further information, search for \"scikit-learn train test split\""
      ],
      "metadata": {
        "colab": {
          "base_uri": "https://localhost:8080/"
        },
        "id": "RGFg8DbTO7YW",
        "outputId": "9132551a-5e3c-4769-f355-b4a990d4eaed"
      },
      "execution_count": 32,
      "outputs": [
        {
          "output_type": "execute_result",
          "data": {
            "text/plain": [
              "(40, 40, 10, 10)"
            ]
          },
          "metadata": {},
          "execution_count": 32
        }
      ]
    },
    {
      "cell_type": "code",
      "source": [
        "X_train, y_train"
      ],
      "metadata": {
        "colab": {
          "base_uri": "https://localhost:8080/"
        },
        "id": "RQcH6K2uTGiI",
        "outputId": "8b84c72c-d387-421d-90a0-9696bb1e728b"
      },
      "execution_count": 33,
      "outputs": [
        {
          "output_type": "execute_result",
          "data": {
            "text/plain": [
              "(tensor([[0.0000],\n",
              "         [0.0200],\n",
              "         [0.0400],\n",
              "         [0.0600],\n",
              "         [0.0800],\n",
              "         [0.1000],\n",
              "         [0.1200],\n",
              "         [0.1400],\n",
              "         [0.1600],\n",
              "         [0.1800],\n",
              "         [0.2000],\n",
              "         [0.2200],\n",
              "         [0.2400],\n",
              "         [0.2600],\n",
              "         [0.2800],\n",
              "         [0.3000],\n",
              "         [0.3200],\n",
              "         [0.3400],\n",
              "         [0.3600],\n",
              "         [0.3800],\n",
              "         [0.4000],\n",
              "         [0.4200],\n",
              "         [0.4400],\n",
              "         [0.4600],\n",
              "         [0.4800],\n",
              "         [0.5000],\n",
              "         [0.5200],\n",
              "         [0.5400],\n",
              "         [0.5600],\n",
              "         [0.5800],\n",
              "         [0.6000],\n",
              "         [0.6200],\n",
              "         [0.6400],\n",
              "         [0.6600],\n",
              "         [0.6800],\n",
              "         [0.7000],\n",
              "         [0.7200],\n",
              "         [0.7400],\n",
              "         [0.7600],\n",
              "         [0.7800]]),\n",
              " tensor([[0.3000],\n",
              "         [0.3140],\n",
              "         [0.3280],\n",
              "         [0.3420],\n",
              "         [0.3560],\n",
              "         [0.3700],\n",
              "         [0.3840],\n",
              "         [0.3980],\n",
              "         [0.4120],\n",
              "         [0.4260],\n",
              "         [0.4400],\n",
              "         [0.4540],\n",
              "         [0.4680],\n",
              "         [0.4820],\n",
              "         [0.4960],\n",
              "         [0.5100],\n",
              "         [0.5240],\n",
              "         [0.5380],\n",
              "         [0.5520],\n",
              "         [0.5660],\n",
              "         [0.5800],\n",
              "         [0.5940],\n",
              "         [0.6080],\n",
              "         [0.6220],\n",
              "         [0.6360],\n",
              "         [0.6500],\n",
              "         [0.6640],\n",
              "         [0.6780],\n",
              "         [0.6920],\n",
              "         [0.7060],\n",
              "         [0.7200],\n",
              "         [0.7340],\n",
              "         [0.7480],\n",
              "         [0.7620],\n",
              "         [0.7760],\n",
              "         [0.7900],\n",
              "         [0.8040],\n",
              "         [0.8180],\n",
              "         [0.8320],\n",
              "         [0.8460]]))"
            ]
          },
          "metadata": {},
          "execution_count": 33
        }
      ]
    },
    {
      "cell_type": "code",
      "source": [
        "#How can we better visualize our data?\n",
        "def plot_predictions(train_data = X_train,\n",
        "                     train_lables = y_train,\n",
        "                     test_data = X_test,\n",
        "                     test_lables = y_test,\n",
        "                     predictions = None):\n",
        "  \"\"\"\n",
        "  Plots training data, test data and compares predictions.\n",
        "  \"\"\"\n",
        "  plt.figure(figsize=(10,7))\n",
        "  #Plot training data in blue\n",
        "  plt.scatter(train_data, train_lables, c=\"b\", s=4, label = \"Training data\")\n",
        "  #c = color, s = size\n",
        "  #Plot test data in green\n",
        "  plt.scatter(test_data, test_lables, c=\"g\", s=4, label = \"Testing data\")\n",
        "\n",
        "  #Are there predictions?\n",
        "  if predictions is not None:\n",
        "    #Plot the prediction if exist\n",
        "    plt.scatter(test_data, predictions, c=\"r\", s=4, label = \"Predictions\")\n",
        "\n",
        "    #Show the legend\n",
        "  plt.legend(prop={\"size\":14})\n",
        "#"
      ],
      "metadata": {
        "id": "oaP5w0s-TPDA"
      },
      "execution_count": 34,
      "outputs": []
    },
    {
      "cell_type": "code",
      "source": [
        "plot_predictions()"
      ],
      "metadata": {
        "colab": {
          "base_uri": "https://localhost:8080/",
          "height": 521
        },
        "id": "1swRekv1VLSV",
        "outputId": "076afc18-7b4c-443a-813c-779ece478a22"
      },
      "execution_count": 35,
      "outputs": [
        {
          "output_type": "display_data",
          "data": {
            "text/plain": [
              "<Figure size 1000x700 with 1 Axes>"
            ],
            "image/png": "[encoded data removed]"
          },
          "metadata": {}
        }
      ]
    },
    {
      "cell_type": "markdown",
      "source": [
        "##2.0 Build a model\n",
        "### Object-Oriented Programming based\n",
        "\n",
        "### What the model does:\n",
        "* Start with random parameters (weight and bias)\n",
        "* Look at training data and adjust the random parameters to better represent the ideal parameters(weight and bias values that we used to create the data)\n",
        "\n",
        "###How does it work?\n",
        "### Through two main algorithms:\n",
        "\n",
        "1. Gradient descent\n",
        "2. Backpropagation\n",
        "\n",
        "#####Graident descent is related to why we need `requries_grad = True`"
      ],
      "metadata": {
        "id": "8nApMYxhV3TH"
      }
    },
    {
      "cell_type": "code",
      "source": [
        "from torch import nn\n",
        "#Create a linear regression model\n",
        "class LinearRegressionModel(nn.Module):\n",
        "  def __init__(self):\n",
        "    super().__init__()\n",
        "# 1. model randomly set parameters (weight and bias)\n",
        "    self.weight = nn.Parameter(torch.randn(1,\n",
        "                                           requires_grad = True, #requires_grad has default value of True, no need to assign\n",
        "                                           dtype = torch.float))\n",
        "    self.bias = nn.Parameter(torch.randn(1,\n",
        "                                          requires_grad = True,\n",
        "                                          dtype = torch.float))\n",
        "\n",
        "# 2. model go through forward function to adjust the parameter to better represent the data\n",
        "    #Forward method to define the computationa in the model\n",
        "  def forward(self, x: torch.Tensor) -> torch.Tensor: # 'x' is the input data\n",
        "    return self.weight * x + self.bias # linear regression formula\n"
      ],
      "metadata": {
        "id": "Ka1U2dp7V8ku"
      },
      "execution_count": 36,
      "outputs": []
    },
    {
      "cell_type": "code",
      "source": [
        "from torch import nn\n",
        "#Create a linear regression model\n",
        "class LinearRegressionModel(nn.Module): # <- almost everything in PyTorch inherits from nn.Module\n",
        "  def __init__(self):\n",
        "    super().__init__()\n",
        "    #initialize model parameters ** these could be different layers from torch.nn, single parameter, hard-coded values or functions\n",
        "    self.weight = nn.Parameter(torch.randn(1,\n",
        "                                           requires_grad = True, # this means that PyTorch will track the gradient of this specific parameter for use with torch.autograd and gradient descent\n",
        "                                           dtype = torch.float))\n",
        "    self.bias = nn.Parameter(torch.randn(1,\n",
        "                                          requires_grad = True,\n",
        "                                          dtype = torch.float))\n",
        "\n",
        "    # forward() defines the computation in the model\n",
        "  def forward(self, x: torch.Tensor) -> torch.Tensor:\n",
        "    return self.weight * x + self.bias\n"
      ],
      "metadata": {
        "id": "XL_YSuVlepB4"
      },
      "execution_count": 37,
      "outputs": []
    },
    {
      "cell_type": "code",
      "source": [],
      "metadata": {
        "id": "q7a_X5rLjZgN"
      },
      "execution_count": 37,
      "outputs": []
    },
    {
      "cell_type": "markdown",
      "source": [
        "### PyTorch model building essentials\n",
        "* torch.nn - contains all of the building for computational graphs (another word for neural networks)\n",
        "* torch.nn.Parameter -  what parameters should our model try and learn, often a PyTorch layer from torch.nn will set this for us\n",
        "* torch.nn.Module -  The base class of all neural network modules, if you subclass it, you should overwrite forward()\n",
        "* torch.optim - contains algorithms that optimize parameters in the model\n",
        "* def forward() - All nn.Module subclasses require you to overwrite forward(), this method defines what happen in the forward computation\n",
        "\n",
        "##### **Additional**\n",
        "\n",
        "* torch.utils.data.Dataset - represents a map between key(lable) and sample(features) pairs of your data. Such as images and their associated labels.\n",
        "* torch.util.data.DataLoader - creates a Python iterable over a torch Dataset (allows you to iterate over your data)\n",
        "\n",
        "##### *please refer to PyTorch Cheat Sheet for further information"
      ],
      "metadata": {
        "id": "0epB6gsLaHVS"
      }
    },
    {
      "cell_type": "markdown",
      "source": [
        "#### For 1. Data preparation following modules are used:\n",
        "* `torchvision.transforms`\n",
        "* `torch.utils.data.Dataset`\n",
        "* `torch.utils.data.DataLoader`\n",
        "\n",
        "#### For 2. Build a (pretrained) model\n",
        "* `torch.nn`\n",
        "* `torch.nn,Module`\n",
        "* `torchvision.models` -> for pretrained model\n",
        "\n",
        "##### For 2.1 Pick a loss function & optimizer\n",
        "* `torch.optim`\n",
        "\n",
        "#### For 4. Evaluate the model\n",
        "* `torchmetrics`\n",
        "\n",
        "#### For 5. Improve through experimentation\n",
        "* `torch.util.tensorboard`\n",
        "\n",
        "##### *for further informaiton, please refer to Pytorch Cheat Sheet\n"
      ],
      "metadata": {
        "id": "TM9XZc3seybx"
      }
    },
    {
      "cell_type": "markdown",
      "source": [
        "### 2.1 Chekcing the content of PyTorch model\n",
        "\n",
        "We can check our model parameters or what;s inside our model using `.parameters()`.\n"
      ],
      "metadata": {
        "id": "qQXjtGMFgQX1"
      }
    },
    {
      "cell_type": "code",
      "source": [
        "# Create a random seed\n",
        "torch.manual_seed(1234) #think about reason for using this manual seed\n",
        "\n",
        "#Create an instance of the model(this i s a subclass of nn.Module)\n",
        "model_0 = LinearRegressionModel()\n",
        "\n",
        "# Check out the parameters\n",
        "model_0.parameters()"
      ],
      "metadata": {
        "colab": {
          "base_uri": "https://localhost:8080/"
        },
        "id": "wJRLPiS5ePL9",
        "outputId": "f15696d8-4bce-49c9-f6e5-26a13a85542a"
      },
      "execution_count": 38,
      "outputs": [
        {
          "output_type": "execute_result",
          "data": {
            "text/plain": [
              "<generator object Module.parameters at 0x7d8132fd90e0>"
            ]
          },
          "metadata": {},
          "execution_count": 38
        }
      ]
    },
    {
      "cell_type": "code",
      "source": [
        "list(model_0.parameters())"
      ],
      "metadata": {
        "colab": {
          "base_uri": "https://localhost:8080/"
        },
        "id": "Wt7RX2f0g7D3",
        "outputId": "a980b51a-eecf-4c6c-d662-9f54e3ea70bf"
      },
      "execution_count": 39,
      "outputs": [
        {
          "output_type": "execute_result",
          "data": {
            "text/plain": [
              "[Parameter containing:\n",
              " tensor([0.0461], requires_grad=True),\n",
              " Parameter containing:\n",
              " tensor([0.4024], requires_grad=True)]"
            ]
          },
          "metadata": {},
          "execution_count": 39
        }
      ]
    },
    {
      "cell_type": "code",
      "source": [
        "# List Named parameters\n",
        "model_0.state_dict() #provide named dictionary"
      ],
      "metadata": {
        "colab": {
          "base_uri": "https://localhost:8080/"
        },
        "id": "OkiqaH0KhAe5",
        "outputId": "3769f088-52a5-44f4-f0f2-9d606511d185"
      },
      "execution_count": 40,
      "outputs": [
        {
          "output_type": "execute_result",
          "data": {
            "text/plain": [
              "OrderedDict([('weight', tensor([0.0461])), ('bias', tensor([0.4024]))])"
            ]
          },
          "metadata": {},
          "execution_count": 40
        }
      ]
    },
    {
      "cell_type": "code",
      "source": [
        "# the purpose of the model is to make the above tensor values as close as the knwon parameters as shown below\n",
        "weight, bias"
      ],
      "metadata": {
        "colab": {
          "base_uri": "https://localhost:8080/"
        },
        "id": "p1fMqtxthFp3",
        "outputId": "f3ea05d3-4b83-4f60-c6c6-45da9ac320ad"
      },
      "execution_count": 41,
      "outputs": [
        {
          "output_type": "execute_result",
          "data": {
            "text/plain": [
              "(0.7, 0.3)"
            ]
          },
          "metadata": {},
          "execution_count": 41
        }
      ]
    },
    {
      "cell_type": "code",
      "source": [
        "### Making prediciton using `torch.inference_mode()`\n",
        "\n",
        "To check our model's predictive power, lets see how well it predicts `y_test`, based on `X_test`.\n",
        "\n",
        "when we pass data through our model. it's going to run it through the `forward()` method."
      ],
      "metadata": {
        "colab": {
          "base_uri": "https://localhost:8080/",
          "height": 110
        },
        "id": "jr9l4Fbxh7YB",
        "outputId": "81096c30-c100-41d5-e7f6-0d9abbd148ae"
      },
      "execution_count": 42,
      "outputs": [
        {
          "output_type": "error",
          "ename": "SyntaxError",
          "evalue": "unterminated string literal (detected at line 3) (<ipython-input-42-6dc507675255>, line 3)",
          "traceback": [
            "\u001b[0;36m  File \u001b[0;32m\"<ipython-input-42-6dc507675255>\"\u001b[0;36m, line \u001b[0;32m3\u001b[0m\n\u001b[0;31m    To check our model's predictive power, lets see how well it predicts `y_test`, based on `X_test`.\u001b[0m\n\u001b[0m                      ^\u001b[0m\n\u001b[0;31mSyntaxError\u001b[0m\u001b[0;31m:\u001b[0m unterminated string literal (detected at line 3)\n"
          ]
        }
      ]
    },
    {
      "cell_type": "code",
      "source": [
        "# Make predictions with model\n",
        "with torch.inference_mode(): #reason for using inference mode : no grad_function -> it stops gradient tracking , it saves memory and runtime\n",
        "  y_pred = model_0(X_test)\n",
        "\n",
        "#Similarly, you can use torch.no_grad()\n",
        "#with torch.no_grad():\n",
        "#  y_preds = model_0(X_test)\n",
        "\n",
        "#But inference mode is preferred\n",
        "y_pred\n",
        "# keep in mind the indentation error(Notimplemented error) occurs in forward method"
      ],
      "metadata": {
        "colab": {
          "base_uri": "https://localhost:8080/"
        },
        "id": "MSBYl_4xg0Xy",
        "outputId": "065a4e09-929c-4e27-fe62-289124c3c64b"
      },
      "execution_count": 43,
      "outputs": [
        {
          "output_type": "execute_result",
          "data": {
            "text/plain": [
              "tensor([[0.4393],\n",
              "        [0.4402],\n",
              "        [0.4412],\n",
              "        [0.4421],\n",
              "        [0.4430],\n",
              "        [0.4439],\n",
              "        [0.4448],\n",
              "        [0.4458],\n",
              "        [0.4467],\n",
              "        [0.4476]])"
            ]
          },
          "metadata": {},
          "execution_count": 43
        }
      ]
    },
    {
      "cell_type": "code",
      "source": [
        "y_test"
      ],
      "metadata": {
        "colab": {
          "base_uri": "https://localhost:8080/"
        },
        "id": "Jy_IgZsZjtrz",
        "outputId": "e74d4e8f-af2f-4d94-8822-595be5800f72"
      },
      "execution_count": 44,
      "outputs": [
        {
          "output_type": "execute_result",
          "data": {
            "text/plain": [
              "tensor([[0.8600],\n",
              "        [0.8740],\n",
              "        [0.8880],\n",
              "        [0.9020],\n",
              "        [0.9160],\n",
              "        [0.9300],\n",
              "        [0.9440],\n",
              "        [0.9580],\n",
              "        [0.9720],\n",
              "        [0.9860]])"
            ]
          },
          "metadata": {},
          "execution_count": 44
        }
      ]
    },
    {
      "cell_type": "code",
      "source": [
        "#check y_pred in the graph\n",
        "plot_predictions(predictions=y_pred)"
      ],
      "metadata": {
        "colab": {
          "base_uri": "https://localhost:8080/",
          "height": 521
        },
        "id": "Jv-K0lvuj5r3",
        "outputId": "1b487276-2e98-4fe5-be9f-bbdd121107ec"
      },
      "execution_count": 45,
      "outputs": [
        {
          "output_type": "display_data",
          "data": {
            "text/plain": [
              "<Figure size 1000x700 with 1 Axes>"
            ],
            "image/png": "[encoded data removed]"
          },
          "metadata": {}
        }
      ]
    },
    {
      "cell_type": "markdown",
      "source": [
        "## 3.0 Training a model with PyTorch (Intuition Building)\n",
        "\n",
        "The whole idea of training is for a model to move from some *unknown* parameters to some *knwon* parameters.\n",
        "\n",
        "Or in other words from poor representation of the data to a better representation.\n",
        "\n",
        "One way to measure how poor or how incorret your models predicitions are **Loss function**.\n",
        "\n",
        "* Note: Loss function may also be clled cost functions or criterion.\n",
        "\n",
        "Things we need to train:\n",
        "\n",
        "* **Loss function:** A function to measure how incorrect you model's predictions are to the ideal output\n",
        "\n",
        "* **Optimizer:** takes into account the loss of a model and adhusts the model's parameters (e.g. weight, bias)\n",
        "\n",
        "And especially for PyTorch, we need:\n",
        "* A training loop\n",
        "* A testing loop"
      ],
      "metadata": {
        "id": "dySQe5isl7md"
      }
    },
    {
      "cell_type": "markdown",
      "source": [
        "### 3.1 Setting up a Loss function and Optimizer\n",
        "\n"
      ],
      "metadata": {
        "id": "ZVBbOn38oTrl"
      }
    },
    {
      "cell_type": "code",
      "source": [],
      "metadata": {
        "id": "WMSoB9fPkDhF"
      },
      "execution_count": null,
      "outputs": []
    },
    {
      "cell_type": "code",
      "source": [],
      "metadata": {
        "id": "P3lhcURyjJ5-"
      },
      "execution_count": null,
      "outputs": []
    },
    {
      "cell_type": "code",
      "source": [],
      "metadata": {
        "id": "irMVmuUAjGuZ"
      },
      "execution_count": null,
      "outputs": []
    },
    {
      "cell_type": "code",
      "source": [],
      "metadata": {
        "id": "1Sr_P9IzjFYd"
      },
      "execution_count": null,
      "outputs": []
    }
  ]
}